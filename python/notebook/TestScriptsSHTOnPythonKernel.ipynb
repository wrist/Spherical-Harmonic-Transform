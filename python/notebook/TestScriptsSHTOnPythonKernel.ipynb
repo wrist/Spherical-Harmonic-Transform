{
 "cells": [
  {
   "cell_type": "code",
   "execution_count": 1,
   "metadata": {},
   "outputs": [],
   "source": [
    "import numpy as np\n",
    "import matplotlib.pyplot as plt\n",
    "import oct2py\n",
    "from oct2py import octave"
   ]
  },
  {
   "cell_type": "code",
   "execution_count": 2,
   "metadata": {},
   "outputs": [],
   "source": [
    "%load_ext oct2py.ipython"
   ]
  },
  {
   "cell_type": "markdown",
   "metadata": {},
   "source": [
    "For how to use octave magic, see https://nbviewer.jupyter.org/github/blink1073/oct2py/blob/master/example/octavemagic_extension.ipynb"
   ]
  },
  {
   "cell_type": "code",
   "execution_count": 3,
   "metadata": {},
   "outputs": [
    {
     "data": {
      "text/plain": [
       "'.:/opt/conda/lib/python3.8/site-packages/oct2py:/opt/conda/lib/python3.8/site-packages/octave_kernel:/usr/lib/x86_64-linux-gnu/octave/5.2.0/site/oct/x86_64-pc-linux-gnu:/usr/lib/x86_64-linux-gnu/octave/site/oct/api-v53/x86_64-pc-linux-gnu:/usr/lib/x86_64-linux-gnu/octave/site/oct/x86_64-pc-linux-gnu:/usr/share/octave/5.2.0/site/m:/usr/share/octave/site/api-v53/m:/usr/share/octave/site/m:/usr/share/octave/site/m/startup:/usr/lib/x86_64-linux-gnu/octave/5.2.0/oct/x86_64-pc-linux-gnu:/usr/share/octave/5.2.0/m:/usr/share/octave/5.2.0/m/audio:/usr/share/octave/5.2.0/m/debian:/usr/share/octave/5.2.0/m/deprecated:/usr/share/octave/5.2.0/m/elfun:/usr/share/octave/5.2.0/m/general:/usr/share/octave/5.2.0/m/geometry:/usr/share/octave/5.2.0/m/gui:/usr/share/octave/5.2.0/m/help:/usr/share/octave/5.2.0/m/image:/usr/share/octave/5.2.0/m/io:/usr/share/octave/5.2.0/m/java:/usr/share/octave/5.2.0/m/legacy:/usr/share/octave/5.2.0/m/linear-algebra:/usr/share/octave/5.2.0/m/miscellaneous:/usr/share/octave/5.2.0/m/ode:/usr/share/octave/5.2.0/m/optimization:/usr/share/octave/5.2.0/m/path:/usr/share/octave/5.2.0/m/pkg:/usr/share/octave/5.2.0/m/plot:/usr/share/octave/5.2.0/m/plot/appearance:/usr/share/octave/5.2.0/m/plot/draw:/usr/share/octave/5.2.0/m/plot/util:/usr/share/octave/5.2.0/m/polynomial:/usr/share/octave/5.2.0/m/prefs:/usr/share/octave/5.2.0/m/profiler:/usr/share/octave/5.2.0/m/set:/usr/share/octave/5.2.0/m/signal:/usr/share/octave/5.2.0/m/sparse:/usr/share/octave/5.2.0/m/specfun:/usr/share/octave/5.2.0/m/special-matrix:/usr/share/octave/5.2.0/m/startup:/usr/share/octave/5.2.0/m/statistics:/usr/share/octave/5.2.0/m/strings:/usr/share/octave/5.2.0/m/testfun:/usr/share/octave/5.2.0/m/time:/usr/share/octave/5.2.0/data'"
      ]
     },
     "execution_count": 3,
     "metadata": {},
     "output_type": "execute_result"
    }
   ],
   "source": [
    "octave.addpath(\"../..\")"
   ]
  },
  {
   "cell_type": "markdown",
   "metadata": {},
   "source": [
    "We can call octave function directly using `octave.func_name()`"
   ]
  },
  {
   "cell_type": "code",
   "execution_count": 4,
   "metadata": {},
   "outputs": [
    {
     "data": {
      "text/plain": [
       "array([[0.        , 0.        ],\n",
       "       [0.        , 0.17453293],\n",
       "       [0.17453293, 0.17453293],\n",
       "       ...,\n",
       "       [5.93411946, 2.96705973],\n",
       "       [6.10865238, 2.96705973],\n",
       "       [0.        , 3.14159265]])"
      ]
     },
     "execution_count": 4,
     "metadata": {},
     "output_type": "execute_result"
    }
   ],
   "source": [
    "octave.grid2dirs(10, 10)"
   ]
  },
  {
   "cell_type": "markdown",
   "metadata": {},
   "source": [
    "Octave script can be evaluated using octave cell magic, with arguments `-i in0,in1,...` and `-o out0,out1,...`."
   ]
  },
  {
   "cell_type": "code",
   "execution_count": 5,
   "metadata": {},
   "outputs": [],
   "source": [
    "%%octave -o F\n",
    "aziElev2aziIncl = @(dirs) [dirs(:,1) pi/2-dirs(:,2)];\n",
    "\n",
    "Nord = 4;\n",
    "fcosAlpha = @(azi, polar, azi0, polar0) cos(polar)*cos(polar0) + ...\n",
    "    sin(polar)*sin(polar0).*cos(azi-azi0);  % function for dipole oriented at azi0, polar0\n",
    "polar0 = pi/4;\n",
    "azi0 = pi/4;\n",
    "fcardioid = @(azi, polar) (1/2).^Nord * (1+fcosAlpha(azi, polar, azi0, polar0)).^Nord;\n",
    "\n",
    "dirs = grid2dirs(10, 10);\n",
    "F = fcardioid(dirs(:,1), dirs(:,2));"
   ]
  },
  {
   "cell_type": "markdown",
   "metadata": {},
   "source": [
    "oct2py can capture plotted figure using `-f png` or `-f svg`."
   ]
  },
  {
   "cell_type": "code",
   "execution_count": 6,
   "metadata": {},
   "outputs": [
    {
     "data": {
      "image/png": "[encoded data removed]",
      "text/plain": [
       "<IPython.core.display.Image object>"
      ]
     },
     "metadata": {},
     "output_type": "display_data"
    }
   ],
   "source": [
    "%%octave -f png\n",
    "% plot function using the spherical plotting function\n",
    "figure\n",
    "plotSphFunctionGrid(Fdirs2grid(F,10,10,1), 10,10,'real',gca);\n",
    "axis([-0.5 1.5 -0.5 1.5 -0.5 1.5]), view(3), title('4th-order cardioid function')"
   ]
  }
 ],
 "metadata": {
  "kernelspec": {
   "display_name": "Python 3",
   "language": "python",
   "name": "python3"
  },
  "language_info": {
   "codemirror_mode": {
    "name": "ipython",
    "version": 3
   },
   "file_extension": ".py",
   "mimetype": "text/x-python",
   "name": "python",
   "nbconvert_exporter": "python",
   "pygments_lexer": "ipython3",
   "version": "3.8.6"
  }
 },
 "nbformat": 4,
 "nbformat_minor": 4
}
